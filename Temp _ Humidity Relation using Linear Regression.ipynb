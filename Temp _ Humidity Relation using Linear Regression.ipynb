{
 "cells": [
  {
   "cell_type": "markdown",
   "id": "56e91e8e",
   "metadata": {},
   "source": [
    "# import libraries"
   ]
  },
  {
   "cell_type": "code",
   "execution_count": 36,
   "id": "2d42b35a",
   "metadata": {},
   "outputs": [],
   "source": [
    "import matplotlib.pyplot as mtp                                 #for plotting graph of x,y\n",
    "import numpy as np                                             #for using data as array\n",
    "from sklearn import linear_model                              #for model we want to predict by linear regression\n",
    "import pandas as pd                                          #for loading csv file data to numpy array\n",
    "from sklearn.metrics import mean_squared_error, r2_score     #for mean error and variance calculation\n",
    "from sklearn.model_selection import train_test_split        #splitting training and testing sets"
   ]
  },
  {
   "cell_type": "code",
   "execution_count": null,
   "id": "4d814f2e",
   "metadata": {},
   "outputs": [],
   "source": []
  },
  {
   "cell_type": "markdown",
   "id": "9f4f4357",
   "metadata": {},
   "source": [
    "# load dataset"
   ]
  },
  {
   "cell_type": "code",
   "execution_count": 37,
   "id": "13c80811",
   "metadata": {},
   "outputs": [],
   "source": [
    "dataset = pd.read_csv('C:\\\\Users\\\\iasms\\\\Desktop\\\\Placement\\\\Python Prograamms\\\\Niyati\\\\Data Files\\\\weather.csv') "
   ]
  },
  {
   "cell_type": "markdown",
   "id": "2eb97488",
   "metadata": {},
   "source": [
    "# splitting to independent(x) and dependent(y) variables"
   ]
  },
  {
   "cell_type": "code",
   "execution_count": 38,
   "id": "7b8f100c",
   "metadata": {},
   "outputs": [],
   "source": [
    "x=dataset.iloc[:,2].values\n",
    "y=dataset.iloc[:,3].values"
   ]
  },
  {
   "cell_type": "code",
   "execution_count": null,
   "id": "eac37742",
   "metadata": {},
   "outputs": [],
   "source": []
  },
  {
   "cell_type": "markdown",
   "id": "1e8bda82",
   "metadata": {},
   "source": [
    "# train and test data split"
   ]
  },
  {
   "cell_type": "code",
   "execution_count": 39,
   "id": "c1fece2c",
   "metadata": {},
   "outputs": [],
   "source": [
    "x_train, x_test, y_train, y_test = train_test_split(x, y, test_size = 1/3, random_state = 0)"
   ]
  },
  {
   "cell_type": "code",
   "execution_count": null,
   "id": "48b9e4b1",
   "metadata": {},
   "outputs": [],
   "source": []
  },
  {
   "cell_type": "markdown",
   "id": "67796f36",
   "metadata": {},
   "source": [
    "# reshaping array to convert from 1D to 2D array"
   ]
  },
  {
   "cell_type": "code",
   "execution_count": 40,
   "id": "09adef9b",
   "metadata": {},
   "outputs": [],
   "source": [
    "x_test=x_test.reshape(-1,1)\n",
    "x_train=x_train.reshape(-1,1)"
   ]
  },
  {
   "cell_type": "code",
   "execution_count": null,
   "id": "c22ab956",
   "metadata": {},
   "outputs": [],
   "source": []
  },
  {
   "cell_type": "code",
   "execution_count": 41,
   "id": "944b5bba",
   "metadata": {},
   "outputs": [
    {
     "data": {
      "text/plain": [
       "LinearRegression()"
      ]
     },
     "execution_count": 41,
     "metadata": {},
     "output_type": "execute_result"
    }
   ],
   "source": [
    "#\"lin_reg\" is our model calling model \"LinearRegression()\"\n",
    "lin_reg=linear_model.LinearRegression()\n",
    "\n",
    "#fitting our data in linear regression model\n",
    "lin_reg.fit(x_train,y_train)"
   ]
  },
  {
   "cell_type": "code",
   "execution_count": null,
   "id": "42c057ed",
   "metadata": {},
   "outputs": [],
   "source": []
  },
  {
   "cell_type": "markdown",
   "id": "800f4181",
   "metadata": {},
   "source": [
    "# making predictions"
   ]
  },
  {
   "cell_type": "code",
   "execution_count": 42,
   "id": "d7b4930a",
   "metadata": {},
   "outputs": [],
   "source": [
    "lin_reg_pred=lin_reg.predict(x_test)\n",
    "lin_reg_pred2=lin_reg.predict(x_train)"
   ]
  },
  {
   "cell_type": "code",
   "execution_count": null,
   "id": "6825b729",
   "metadata": {},
   "outputs": [],
   "source": []
  },
  {
   "cell_type": "markdown",
   "id": "efc72944",
   "metadata": {},
   "source": [
    "# coef_ and intercept_ are coefficients and intercepts resp. for our model"
   ]
  },
  {
   "cell_type": "code",
   "execution_count": 43,
   "id": "11de1236",
   "metadata": {},
   "outputs": [
    {
     "name": "stdout",
     "output_type": "stream",
     "text": [
      "Coefficients:\n",
      " [-4.02872657]\n",
      "Intercept:\n",
      " 194.5221290669885\n"
     ]
    }
   ],
   "source": [
    "print(\"Coefficients:\\n\",lin_reg.coef_)\n",
    "print(\"Intercept:\\n\",lin_reg.intercept_)"
   ]
  },
  {
   "cell_type": "code",
   "execution_count": 44,
   "id": "ad9e5831",
   "metadata": {},
   "outputs": [
    {
     "name": "stdout",
     "output_type": "stream",
     "text": [
      "Mean squared error: 4.62\n",
      "Variance score: 0.87\n"
     ]
    }
   ],
   "source": [
    "# The mean squared error\n",
    "print(\"Mean squared error: %.2f\"\n",
    "      % mean_squared_error(y_test, lin_reg_pred))\n",
    "\n",
    "# Explained variance score: 1 is perfect prediction\n",
    "print('Variance score: %.2f' % r2_score(y_test, lin_reg_pred))"
   ]
  },
  {
   "cell_type": "code",
   "execution_count": null,
   "id": "3602a7ab",
   "metadata": {},
   "outputs": [],
   "source": []
  },
  {
   "cell_type": "markdown",
   "id": "c824ef7e",
   "metadata": {},
   "source": [
    "# Train Dataset"
   ]
  },
  {
   "cell_type": "code",
   "execution_count": 45,
   "id": "f452bf23",
   "metadata": {},
   "outputs": [
    {
     "data": {
      "image/png": "[encoded data removed]",
      "text/plain": [
       "<Figure size 432x288 with 1 Axes>"
      ]
     },
     "metadata": {
      "needs_background": "light"
     },
     "output_type": "display_data"
    }
   ],
   "source": [
    "mtp.scatter(x_train, y_train, color=\"red\")   \n",
    "mtp.plot(x_train, lin_reg_pred2, color=\"black\")    \n",
    "mtp.title(\"Temperature vs Relative Humidity (Training Dataset)\")  \n",
    "mtp.xlabel(\"Temperature\")  \n",
    "mtp.ylabel(\"Relative Humidity\")  \n",
    "mtp.show()"
   ]
  },
  {
   "cell_type": "code",
   "execution_count": null,
   "id": "92e2060e",
   "metadata": {},
   "outputs": [],
   "source": []
  },
  {
   "cell_type": "markdown",
   "id": "14b8b08a",
   "metadata": {},
   "source": [
    "# Test Dataeset"
   ]
  },
  {
   "cell_type": "code",
   "execution_count": 46,
   "id": "fd6582ef",
   "metadata": {},
   "outputs": [
    {
     "data": {
      "image/png": "[encoded data removed]",
      "text/plain": [
       "<Figure size 432x288 with 1 Axes>"
      ]
     },
     "metadata": {
      "needs_background": "light"
     },
     "output_type": "display_data"
    }
   ],
   "source": [
    "mtp.scatter(x_test, y_test, color=\"blue\")   \n",
    "mtp.plot(x_train, lin_reg_pred2, color=\"red\")    \n",
    "mtp.title(\"Temperature vs Relative Humidity (Test Dataset)\")  \n",
    "mtp.xlabel(\"Temperature\")  \n",
    "mtp.ylabel(\"Relative Humidity\")  \n",
    "mtp.show()"
   ]
  },
  {
   "cell_type": "code",
   "execution_count": null,
   "id": "9ad2a907",
   "metadata": {},
   "outputs": [],
   "source": []
  },
  {
   "cell_type": "code",
   "execution_count": null,
   "id": "ed2362cb",
   "metadata": {},
   "outputs": [],
   "source": []
  }
 ],
 "metadata": {
  "kernelspec": {
   "display_name": "Python 3 (ipykernel)",
   "language": "python",
   "name": "python3"
  },
  "language_info": {
   "codemirror_mode": {
    "name": "ipython",
    "version": 3
   },
   "file_extension": ".py",
   "mimetype": "text/x-python",
   "name": "python",
   "nbconvert_exporter": "python",
   "pygments_lexer": "ipython3",
   "version": "3.9.12"
  }
 },
 "nbformat": 4,
 "nbformat_minor": 5
}
